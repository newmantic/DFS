{
  "nbformat": 4,
  "nbformat_minor": 0,
  "metadata": {
    "colab": {
      "provenance": [],
      "authorship_tag": "ABX9TyORSF2dyoG6EkTgu2szg3sf",
      "include_colab_link": true
    },
    "kernelspec": {
      "name": "python3",
      "display_name": "Python 3"
    },
    "language_info": {
      "name": "python"
    }
  },
  "cells": [
    {
      "cell_type": "markdown",
      "metadata": {
        "id": "view-in-github",
        "colab_type": "text"
      },
      "source": [
        "<a href=\"https://colab.research.google.com/github/newmantic/DFS/blob/main/DFS.ipynb\" target=\"_parent\"><img src=\"https://colab.research.google.com/assets/colab-badge.svg\" alt=\"Open In Colab\"/></a>"
      ]
    },
    {
      "cell_type": "code",
      "execution_count": 1,
      "metadata": {
        "colab": {
          "base_uri": "https://localhost:8080/"
        },
        "id": "r-skxUuZk_M1",
        "outputId": "909f98ac-765e-4a95-df05-3e3da421e796"
      },
      "outputs": [
        {
          "output_type": "stream",
          "name": "stdout",
          "text": [
            "DFS traversal order (recursive): ['A', 'B', 'D', 'E', 'F', 'C']\n"
          ]
        }
      ],
      "source": [
        "def dfs_recursive(graph, start_node, visited=None):\n",
        "    \"\"\"\n",
        "    Perform Depth-First Search (DFS) on a graph using recursion.\n",
        "\n",
        "    Parameters:\n",
        "    graph (dict): A dictionary representing the graph as an adjacency list.\n",
        "                  The keys are node labels, and the values are lists of neighboring nodes.\n",
        "    start_node: The node from which to start the DFS traversal.\n",
        "    visited (set): A set to keep track of visited nodes.\n",
        "\n",
        "    Returns:\n",
        "    list: A list of nodes in the order they were visited.\n",
        "    \"\"\"\n",
        "    if visited is None:\n",
        "        visited = set()\n",
        "\n",
        "    visited.add(start_node)\n",
        "    dfs_order = [start_node]\n",
        "\n",
        "    for neighbor in graph[start_node]:\n",
        "        if neighbor not in visited:\n",
        "            dfs_order.extend(dfs_recursive(graph, neighbor, visited))\n",
        "\n",
        "    return dfs_order\n",
        "\n",
        "# Testable example:\n",
        "# Define a simple graph as an adjacency list\n",
        "graph = {\n",
        "    'A': ['B', 'C'],\n",
        "    'B': ['D', 'E'],\n",
        "    'C': ['F'],\n",
        "    'D': [],\n",
        "    'E': ['F'],\n",
        "    'F': []\n",
        "}\n",
        "\n",
        "# Perform DFS starting from node 'A'\n",
        "dfs_result = dfs_recursive(graph, 'A')\n",
        "print(f\"DFS traversal order (recursive): {dfs_result}\")"
      ]
    },
    {
      "cell_type": "code",
      "source": [
        "def dfs_iterative(graph, start_node):\n",
        "    \"\"\"\n",
        "    Perform Depth-First Search (DFS) on a graph using an iterative approach.\n",
        "\n",
        "    Parameters:\n",
        "    graph (dict): A dictionary representing the graph as an adjacency list.\n",
        "                  The keys are node labels, and the values are lists of neighboring nodes.\n",
        "    start_node: The node from which to start the DFS traversal.\n",
        "\n",
        "    Returns:\n",
        "    list: A list of nodes in the order they were visited.\n",
        "    \"\"\"\n",
        "    visited = set()\n",
        "    stack = [start_node]\n",
        "    dfs_order = []\n",
        "\n",
        "    while stack:\n",
        "        current_node = stack.pop()\n",
        "\n",
        "        if current_node not in visited:\n",
        "            visited.add(current_node)\n",
        "            dfs_order.append(current_node)\n",
        "\n",
        "            # Push all unvisited neighbors to the stack\n",
        "            for neighbor in reversed(graph[current_node]):\n",
        "                if neighbor not in visited:\n",
        "                    stack.append(neighbor)\n",
        "\n",
        "    return dfs_order\n",
        "\n",
        "# Testable example:\n",
        "# Perform DFS starting from node 'A' using iterative method\n",
        "dfs_result_iterative = dfs_iterative(graph, 'A')\n",
        "print(f\"DFS traversal order (iterative): {dfs_result_iterative}\")"
      ],
      "metadata": {
        "colab": {
          "base_uri": "https://localhost:8080/"
        },
        "id": "z6p-DR4VlNVb",
        "outputId": "c21cd3e5-0339-4d89-dd28-f6431e8e2962"
      },
      "execution_count": 2,
      "outputs": [
        {
          "output_type": "stream",
          "name": "stdout",
          "text": [
            "DFS traversal order (iterative): ['A', 'B', 'D', 'E', 'F', 'C']\n"
          ]
        }
      ]
    }
  ]
}